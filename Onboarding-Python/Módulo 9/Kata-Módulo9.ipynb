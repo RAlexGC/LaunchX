{
  "cells": [
    {
      "cell_type": "markdown",
      "metadata": {},
      "source": [
        "# Ejercicio: Uso de funciones en Python"
      ]
    },
    {
      "cell_type": "markdown",
      "metadata": {},
      "source": [
        "### Ejercicio 1: Trabajar con argumentos en funciones\n",
        "\n",
        "Los argumentos requeridos en las funciones se utilizan cuando las funciones necesitan que esos argumentos funcionen correctamente. En este ejercicio, construirás un informe de combustible que requiere información de varias ubicaciones de combustible en todo el cohete.\n",
        "\n"
      ]
    },
    {
      "cell_type": "code",
      "execution_count": null,
      "metadata": {},
      "outputs": [],
      "source": [
        "# Función para leer 3 tanques de combustible y muestre el promedio\n",
        "def tank_report(t1,t2,t3):\n",
        "    prom = (t1+t2+t3)/3\n",
        "    return 'Informe de tanques:\\n Tanque 1: {}%\\n Tanque 2: {}%\\n Tanque 3: {}\\n Promedio: {}%'.format(t1,t2,t3,prom)"
      ]
    },
    {
      "cell_type": "markdown",
      "metadata": {},
      "source": [
        "Ahora que hemos definido la función de informes, vamos a comprobarlo. Para esta misión, los tanques no están llenos:"
      ]
    },
    {
      "cell_type": "code",
      "execution_count": 12,
      "metadata": {},
      "outputs": [
        {
          "name": "stdout",
          "output_type": "stream",
          "text": [
            "Informe de tanques:\n",
            " Tanque 1: 15%\n",
            " Tanque 2: 20%\n",
            " Tanque 3: 25\n",
            " Promedio: 20.0%\n"
          ]
        }
      ],
      "source": [
        "\n",
        "# Llamamos a la función que genera el reporte print(funcion(tanque1, tanque2, tanque3))\n",
        "print(tank_report(15,20,25))"
      ]
    },
    {
      "cell_type": "markdown",
      "metadata": {},
      "source": [
        "En lugar de simplemente crear el informe, la función también está calculando el promedio. Mejora la legibilidad extrayendo el cálculo promedio de la función en una nueva función para que el promedio se pueda hacer de forma independiente:"
      ]
    },
    {
      "cell_type": "code",
      "execution_count": 16,
      "metadata": {},
      "outputs": [
        {
          "name": "stdout",
          "output_type": "stream",
          "text": [
            "2.0\n"
          ]
        }
      ],
      "source": [
        "# Función promedio \n",
        "def prom(vals):\n",
        "    tot = sum(vals)\n",
        "    return tot/len(vals)\n",
        "\n",
        "print(prom([1,2,3]))"
      ]
    },
    {
      "cell_type": "markdown",
      "metadata": {},
      "source": [
        "Ahora actualiza la función de informes para llamando a la nueva función del promedio:\n"
      ]
    },
    {
      "cell_type": "code",
      "execution_count": 17,
      "metadata": {},
      "outputs": [
        {
          "name": "stdout",
          "output_type": "stream",
          "text": [
            "Informe de tanques:\n",
            " Tanque 1: 15%\n",
            " Tanque 2: 20%\n",
            " Tanque 3: 25\n",
            " Promedio: 20.0%\n"
          ]
        }
      ],
      "source": [
        "# Actualiza la función\n",
        "def tank_report(t1,t2,t3):\n",
        "    avg = prom([t1,t2,t3])\n",
        "    return 'Informe de tanques:\\n Tanque 1: {}%\\n Tanque 2: {}%\\n Tanque 3: {}\\n Promedio: {}%'.format(t1,t2,t3,avg)\n",
        "\n",
        "print(tank_report(15,20,25))"
      ]
    },
    {
      "cell_type": "markdown",
      "metadata": {},
      "source": [
        "## Ejercicio 2: Trabajo con argumentos de palabra clave"
      ]
    },
    {
      "cell_type": "markdown",
      "metadata": {},
      "source": [
        "### Ejercicio : Trabajar con argumentos de palabras clave en funciones\n",
        "En este ejercicio, construirás un informe de cohete que requiere varias piezas de información, como el tiempo hasta el destino, el combustible a la izquierda y el nombre del destino. Comienza por crear una función que creará un informe preciso de la misión:"
      ]
    },
    {
      "cell_type": "code",
      "execution_count": 23,
      "metadata": {},
      "outputs": [
        {
          "name": "stdout",
          "output_type": "stream",
          "text": [
            "Reporte de misión:\n",
            " Tiempo de vuelo: 30 minutos\n",
            " Destino: Marte\n",
            " Combustible de tanque interno: 25 litros\n",
            " Combustible de tanque externo: 50 litros\n",
            " Combustible total: 75 litros\n"
          ]
        }
      ],
      "source": [
        "# Función con un informe preciso de la misión. Considera hora de prelanzamiento, tiempo de vuelo, destino, tanque externo y tanque interno\n",
        "def mission_report(hpl,tdv,d,te,ti):\n",
        "    return 'Reporte de misión:\\n Tiempo de vuelo: {} minutos\\n Destino: {}\\n Combustible de tanque interno: {} litros\\n Combustible de tanque externo: {} litros\\n Combustible total: {} litros'.format(hpl+tdv,d,te,ti,te+ti)\n",
        "\n",
        "print(mission_report(16,14,'Marte',25,50))"
      ]
    },
    {
      "cell_type": "markdown",
      "metadata": {},
      "source": [
        "La función es problemática porque no se puede adaptar para minutos adicionales o tanques adicionales de combustible. Hazlo más flexible permitiendo cualquier número de pasos basados en el tiempo y cualquier número de tanques. En lugar de usar `*args` y `**kwargs`, aprovecha el hecho de que puedes usar cualquier nombre que desees. Asegurate que la función sea más legible mediante el uso de nombres de variables que están asociados con las entradas, como `*minutes` y `**fuel_reservoirs`:"
      ]
    },
    {
      "cell_type": "code",
      "execution_count": 26,
      "metadata": {},
      "outputs": [
        {
          "name": "stdout",
          "output_type": "stream",
          "text": [
            "Reporte de misión:\n",
            " Tiempo de vuelo: 4800 minutos\n",
            " Destino: Marte\n",
            " Combustible total: 75 litros\n"
          ]
        }
      ],
      "source": [
        "# Escribe tu nueva función de reporte considerando lo anterior\n",
        "def mission_report(d,*min,**tanks):\n",
        "    tof=sum(min)\n",
        "    tf=sum(tanks.values())\n",
        "    return 'Reporte de misión:\\n Tiempo de vuelo: {} minutos\\n Destino: {}\\n Combustible total: {} litros'.format(tof,d,tf)\n",
        "\n",
        "print(mission_report('Marte',3600,1200,tanque_externo=50,tanque_interno=25))"
      ]
    },
    {
      "cell_type": "markdown",
      "metadata": {},
      "source": [
        "Debido a que el combustible que queda en los tanques es específico de cada tanque, actualiza la función para usar el nombre de cada tanque en el informe:"
      ]
    },
    {
      "cell_type": "code",
      "execution_count": 28,
      "metadata": {},
      "outputs": [
        {
          "name": "stdout",
          "output_type": "stream",
          "text": [
            "Reporte de misión:\n",
            " Tiempo de vuelo: 4800 minutos\n",
            " Destino: Marte\n",
            " Combustible total: 75 litros\n"
          ]
        }
      ],
      "source": [
        "# Escribe tu nueva función\n",
        "def mission_report(d,*min,**tanks):\n",
        "    tof=sum(min)\n",
        "    tf=sum(tanks.values())\n",
        "    return 'Reporte de misión:\\n Tiempo de vuelo: {} minutos\\n Destino: {}\\n Combustible total: {} litros'.format(tof,d,tf)\n",
        "\n",
        "print(mission_report('Marte',3600,1200,tanque_externo=50,tanque_interno=25))"
      ]
    },
    {
      "cell_type": "code",
      "execution_count": 30,
      "metadata": {},
      "outputs": [
        {
          "name": "stdout",
          "output_type": "stream",
          "text": [
            "Reporte de misión:\n",
            " Tiempo de vuelo: 4800 minutos\n",
            " Destino: Marte\n",
            " Combustible total: 75 litros\n",
            "tanque_externo tiene: 50 litros\n",
            "tanque_interno tiene: 25 litros\n",
            "\n"
          ]
        }
      ],
      "source": [
        "def mission_report(d,*min,**tanks):\n",
        "    tof=sum(min)\n",
        "    tf=sum(tanks.values())\n",
        "    reporte = 'Reporte de misión:\\n Tiempo de vuelo: {} minutos\\n Destino: {}\\n Combustible total: {} litros\\n'.format(tof,d,tf)\n",
        "    for tank,vol in tanks.items():\n",
        "        reporte += '{} tiene: {} litros\\n'.format(tank,vol)\n",
        "    return reporte\n",
        "\n",
        "print(mission_report('Marte',3600,1200,tanque_externo=50,tanque_interno=25))"
      ]
    }
  ],
  "metadata": {
    "interpreter": {
      "hash": "205095b8b86ea82a021a8fc2ffba2b3bc9f8d0be25999901963b225939f75778"
    },
    "kernelspec": {
      "display_name": "Python 3.8.10 64-bit ('tmp': conda)",
      "name": "python3"
    },
    "language_info": {
      "codemirror_mode": {
        "name": "ipython",
        "version": 3
      },
      "file_extension": ".py",
      "mimetype": "text/x-python",
      "name": "python",
      "nbconvert_exporter": "python",
      "pygments_lexer": "ipython3",
      "version": "3.10.2"
    },
    "nteract": {
      "version": "nteract-front-end@1.0.0"
    },
    "orig_nbformat": 4
  },
  "nbformat": 4,
  "nbformat_minor": 2
}
