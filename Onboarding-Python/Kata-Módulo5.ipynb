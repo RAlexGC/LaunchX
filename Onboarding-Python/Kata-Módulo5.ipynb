{
 "cells": [
  {
   "cell_type": "markdown",
   "metadata": {},
   "source": [
    "## Ejercicio 1: Utilizar operadores aritméticos\n",
    "Programa para calcular la distacia entre dos planetas"
   ]
  },
  {
   "cell_type": "code",
   "execution_count": 1,
   "metadata": {},
   "outputs": [],
   "source": [
    "dt=149597870\n",
    "dj=778547200"
   ]
  },
  {
   "cell_type": "code",
   "execution_count": 9,
   "metadata": {},
   "outputs": [
    {
     "name": "stdout",
     "output_type": "stream",
     "text": [
      "La distancia entre los planetas es: 628949330 km\n",
      "La distancia en millas es: 390810995.0389724 mi\n"
     ]
    }
   ],
   "source": [
    "#Cálculo de distancia entre planetas\n",
    "dip=abs(dt-dj)\n",
    "print(\"La distancia entre los planetas es: {} km\".format(dip))\n",
    "#Conversión de km a mi\n",
    "print(\"La distancia en millas es: {} mi\".format(dip/1.609344))"
   ]
  },
  {
   "cell_type": "markdown",
   "metadata": {},
   "source": [
    "## Ejercicio 2: Convertir cadenas en números y utilizar valores absolutos\n",
    "Crear una aplicación para trabajar con números y entrada de usuario"
   ]
  },
  {
   "cell_type": "code",
   "execution_count": 11,
   "metadata": {},
   "outputs": [
    {
     "name": "stdout",
     "output_type": "stream",
     "text": [
      "La distancia entre los planetas es: 10241000 km\n",
      "La distancia en millas es: 6363462.379702536 mi\n"
     ]
    }
   ],
   "source": [
    "#Obteniendo valores\n",
    "pp=input(\"Ingresa la distancia al Sol del primer planeta en km:\")\n",
    "sp=input(\"Ingresa la distancia al Sol del segundo planeta en km:\")\n",
    "#Conversión de cadenas a enteros\n",
    "nepp=int(pp)\n",
    "nesp=int(sp)\n",
    "dip=abs(nepp-nesp)\n",
    "print(\"La distancia entre los planetas es: {} km\".format(dip))\n",
    "#Conversión de km a mi\n",
    "print(\"La distancia en millas es: {} mi\".format(dip/1.609344))"
   ]
  }
 ],
 "metadata": {
  "interpreter": {
   "hash": "79434184167ed37bd3169f7b21407f70a39d7be74cd6d23692a3693c917966ff"
  },
  "kernelspec": {
   "display_name": "Python 3.10.2 64-bit",
   "language": "python",
   "name": "python3"
  },
  "language_info": {
   "codemirror_mode": {
    "name": "ipython",
    "version": 3
   },
   "file_extension": ".py",
   "mimetype": "text/x-python",
   "name": "python",
   "nbconvert_exporter": "python",
   "pygments_lexer": "ipython3",
   "version": "3.10.2"
  },
  "orig_nbformat": 4
 },
 "nbformat": 4,
 "nbformat_minor": 2
}
