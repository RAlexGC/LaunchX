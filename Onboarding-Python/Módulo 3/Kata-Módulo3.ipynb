{
 "cells": [
  {
   "cell_type": "markdown",
   "metadata": {},
   "source": [
    "## Ejercicio - Escribir declaraciones if, else, y elif"
   ]
  },
  {
   "cell_type": "code",
   "execution_count": 10,
   "metadata": {},
   "outputs": [
    {
     "name": "stdout",
     "output_type": "stream",
     "text": [
      "¡Un asteroide se acerca a la Tierra demasiado rápido!\n"
     ]
    }
   ],
   "source": [
    "vast=49\n",
    "if vast>25:\n",
    "    print(\"¡Un asteroide se acerca a la Tierra demasiado rápido!\")"
   ]
  },
  {
   "cell_type": "code",
   "execution_count": 15,
   "metadata": {},
   "outputs": [
    {
     "name": "stdout",
     "output_type": "stream",
     "text": [
      "¡Asteroide acercándose a la Tierra!. Se puede ver el rayo de luz en el cielo.\n"
     ]
    }
   ],
   "source": [
    "vast=20\n",
    "if vast>=20:\n",
    "    print(\"¡Asteroide acercándose a la Tierra!. Se puede ver el rayo de luz en el cielo.\")\n",
    "else:\n",
    "    print(\"¡Hay un asteroide que se dirige a la Tierra a una velocidad de 19 km/s!. No es posible ver el rayo de luz en el cielo.\")\n"
   ]
  },
  {
   "cell_type": "markdown",
   "metadata": {},
   "source": [
    "## Ejercicio - Uso de operadores and, or"
   ]
  },
  {
   "cell_type": "code",
   "execution_count": 22,
   "metadata": {},
   "outputs": [
    {
     "name": "stdout",
     "output_type": "stream",
     "text": [
      "¡Asteroide muy peligroso acercándose a la Tierra!\n"
     ]
    }
   ],
   "source": [
    "vast = input(\"Ingresa la velocidad del asteroide (Km/s): \")\n",
    "tast = input(\"Ingresa el tamaño del ateroide (m): \")\n",
    "if int(tast)>25 and int(vast)>25:\n",
    "    print(\"¡Asteroide muy peligroso acercándose a la Tierra!\")\n",
    "elif int(vast)>25:\n",
    "    print(\"¡Un asteroide se acerca a la Tierra demasiado rápido!. Se puede ver el rayo de luz en el cielo.\")\n",
    "elif int(vast)>=20 and int(tast)>25:\n",
    "    print(\"¡Asteroide de tamaño importante acercándose a la Tierra!. Se puede ver el rayo de luz en el cielo.\")\n",
    "elif int(tast)>=20 and int(tast)<25:\n",
    "    print(\"¡Asteroide pequeño acercándose a la Tierra!. Se puede ver el rayo de luz en el cielo.\")\n",
    "elif int(vast)<20 and int(tast)>25:\n",
    "    print(\"¡Asteroide de tamaño importante acercándose a la Tierra!\")\n",
    "else:\n",
    "    print(\"Todo en orden. Nada de qué preocuparse.\")\n"
   ]
  }
 ],
 "metadata": {
  "interpreter": {
   "hash": "79434184167ed37bd3169f7b21407f70a39d7be74cd6d23692a3693c917966ff"
  },
  "kernelspec": {
   "display_name": "Python 3.10.2 64-bit",
   "language": "python",
   "name": "python3"
  },
  "language_info": {
   "codemirror_mode": {
    "name": "ipython",
    "version": 3
   },
   "file_extension": ".py",
   "mimetype": "text/x-python",
   "name": "python",
   "nbconvert_exporter": "python",
   "pygments_lexer": "ipython3",
   "version": "3.10.2"
  },
  "orig_nbformat": 4
 },
 "nbformat": 4,
 "nbformat_minor": 2
}
